{
 "cells": [
  {
   "cell_type": "code",
   "execution_count": 37,
   "metadata": {
    "collapsed": true
   },
   "outputs": [
    {
     "name": "stdout",
     "output_type": "stream",
     "text": [
      "5\n",
      "1 2 3 4 5\n",
      "5\n",
      "100000 loops, best of 3: 4.52 µs per loop\n"
     ]
    }
   ],
   "source": [
    "def foo(n, array, el):\n",
    "    return (len([1 for i in range(0, n) if int(array[i]) == el]))\n",
    "\n",
    "n = int(input())\n",
    "array = input().split()\n",
    "el = int(input())\n",
    "% timeit foo(n, array, el)"
   ]
  },
  {
   "cell_type": "code",
   "execution_count": 41,
   "metadata": {
    "collapsed": true
   },
   "outputs": [
    {
     "name": "stdout",
     "output_type": "stream",
     "text": [
      "5\n",
      "1 2 3 4 5\n",
      "5\n",
      "The slowest run took 4.21 times longer than the fastest. This could mean that an intermediate result is being cached.\n",
      "100000 loops, best of 3: 3.05 µs per loop\n"
     ]
    }
   ],
   "source": [
    "def foo(n, array, el):\n",
    "    for i in range(0, n):\n",
    "        if int(array[i]) == el:\n",
    "            return 'YES'\n",
    "    return 'NO'\n",
    "\n",
    "n = int(input())\n",
    "array = input().split()\n",
    "el = int(input())\n",
    "foo(n, array, el)\n"
   ]
  },
  {
   "cell_type": "code",
   "execution_count": 62,
   "metadata": {
    "collapsed": true
   },
   "outputs": [
    {
     "name": "stdout",
     "output_type": "stream",
     "text": [
      "5\n",
      "1 2 3 4 5\n",
      "3\n"
     ]
    },
    {
     "data": {
      "text/plain": [
       "3"
      ]
     },
     "execution_count": 62,
     "metadata": {},
     "output_type": "execute_result"
    }
   ],
   "source": [
    "def foo(n, array, el):\n",
    "    ind = 0\n",
    "    min_diff = 1000\n",
    "    for i in range(0, n):\n",
    "#        print('diff: ', abs(int(array[i]) - el), 'min_diff: ', min_diff)\n",
    "#        print(abs(int(array[i]) - el) < min_diff)\n",
    "        if abs(int(array[i]) - el) < min_diff:\n",
    "            ind = i\n",
    "            min_diff = abs(int(array[i]) - el)\n",
    "#        print(ind)\n",
    "    \n",
    "    return int(array[ind])\n",
    "            \n",
    "\n",
    "n = int(input())\n",
    "array = input().split()\n",
    "el = int(input())\n",
    "foo(n, array, el)\n"
   ]
  },
  {
   "cell_type": "code",
   "execution_count": 86,
   "metadata": {
    "collapsed": true
   },
   "outputs": [
    {
     "name": "stdout",
     "output_type": "stream",
     "text": [
      "1\n",
      "12 3 4 4\n",
      "5\n"
     ]
    }
   ],
   "source": [
    "n = int(input())\n",
    "array = input().split()\n",
    "el = int(input())\n",
    "\n",
    "f = [i + 1 for i in range(0, n) if int(array[i]) == el]\n",
    "for i in f:\n",
    "    print(i, end =' ')"
   ]
  },
  {
   "cell_type": "code",
   "execution_count": 89,
   "metadata": {
    "collapsed": true
   },
   "outputs": [
    {
     "name": "stdout",
     "output_type": "stream",
     "text": [
      "5\n",
      "12 34 5 43 2\n",
      "43\n"
     ]
    }
   ],
   "source": [
    "def foo(n, array):\n",
    "    max_val = int(array[0])\n",
    "    max_ind = 0\n",
    "    for i in range(1, n):\n",
    "        if int(array[i]) > max_val:\n",
    "            max_ind = i\n",
    "            max_val = int(array[i])\n",
    "    return max_val\n",
    "    \n",
    "    \n",
    "n = int(input())\n",
    "array = input().split()\n",
    "print(foo(n, array))\n"
   ]
  },
  {
   "cell_type": "code",
   "execution_count": 91,
   "metadata": {
    "collapsed": true
   },
   "outputs": [
    {
     "name": "stdout",
     "output_type": "stream",
     "text": [
      "6\n",
      "1 2 3 4 5 6\n",
      "6\n"
     ]
    }
   ],
   "source": [
    "def foo(n, array):\n",
    "    max_val = int(array[0])\n",
    "    max_ind = 0\n",
    "    for i in range(1, n):\n",
    "        if int(array[i]) > max_val:\n",
    "            max_ind = i\n",
    "            max_val = int(array[i])\n",
    "    return max_ind + 1\n",
    "    \n",
    "    \n",
    "n = int(input())\n",
    "array = input().split()\n",
    "print(foo(n, array))"
   ]
  },
  {
   "cell_type": "code",
   "execution_count": 8,
   "metadata": {
    "collapsed": true
   },
   "outputs": [
    {
     "name": "stdout",
     "output_type": "stream",
     "text": [
      "5\n",
      "10 2 3 1 5\n",
      "(1, 5)\n"
     ]
    }
   ],
   "source": [
    "def foo(n, array):\n",
    "    index_array = [i for i in range(n)]\n",
    "    first_list = (index_array[:int(n/2)])\n",
    "    second_list = (index_array[int(n/2):])\n",
    "    \n",
    "    min_list = []\n",
    "    max_list = []\n",
    "    while first_list:         \n",
    "        if int(array[first_list[0]]) > int(array[second_list[0]]):\n",
    "            max_list.append(first_list.pop(0))\n",
    "            min_list.append(second_list.pop(0))\n",
    "        else:\n",
    "            max_list.append(second_list.pop(0))\n",
    "            min_list.append(first_list.pop(0))\n",
    "    \n",
    "    max_ind = 0\n",
    "    max_val = int(array[max_ind])\n",
    "\n",
    "    min_ind = 0\n",
    "    min_val = int(array[min_ind])\n",
    "    \n",
    "    for i in range(1, len(max_list)):\n",
    "        if int(array[max_list[i]]) > max_val:\n",
    "            max_val = int(array[max_list[i]])\n",
    "            max_ind = max_list[i]\n",
    "        if int(array[min_list[i]]) > min_val:\n",
    "            min_val = int(array[min_list[i]])\n",
    "            min_ind = min_list[i]\n",
    "\n",
    "    if n % 2 == 1:\n",
    "        if int(array[second_list[0]]) < min_val:\n",
    "            min_ind = second_list[0]\n",
    "        elif int(array[second_list[0]]) > max_val:\n",
    "            max_ind = second_list[0]\n",
    "    return max_ind + 1, min_ind + 1\n",
    "    \n",
    "    \n",
    "n = int(input())\n",
    "array = input().split()\n",
    "print(foo(n, array))"
   ]
  },
  {
   "cell_type": "code",
   "execution_count": 21,
   "metadata": {
    "collapsed": true
   },
   "outputs": [
    {
     "name": "stdout",
     "output_type": "stream",
     "text": [
      "5\n",
      "10 2 3 1 5\n",
      "1 2\n"
     ]
    }
   ],
   "source": [
    "def foo(n, array):\n",
    "    if int(array[0]) > int(array[1]):\n",
    "        min1 = int(array[1])\n",
    "        min2 = int(array[0])\n",
    "    else:\n",
    "        min1 = int(array[0])\n",
    "        min2 = int(array[1])        \n",
    "            \n",
    "    for i in range(2, n):\n",
    "        if int(array[i]) < min1:\n",
    "            min2 = min1\n",
    "            min1 = int(array[i])\n",
    "        \n",
    "        if int(array[i]) < min2 and int(array[i]) > min1:\n",
    "            min2 = int(array[i])\n",
    "            \n",
    "    return min1, min2\n",
    "\n",
    "n = int(input())\n",
    "array = input().split()\n",
    "f = foo(n, array)\n",
    "print(f[0], f[1])"
   ]
  },
  {
   "cell_type": "code",
   "execution_count": 31,
   "metadata": {
    "collapsed": true
   },
   "outputs": [
    {
     "name": "stdout",
     "output_type": "stream",
     "text": [
      "3\n",
      "3\n",
      "1 2 3\n",
      "3 2 1\n",
      "1 1 1\n",
      "YES\n",
      "NO\n",
      "YES\n"
     ]
    }
   ],
   "source": [
    "def foo(n, x, array):\n",
    "    result = []\n",
    "    for i in range(0, n):\n",
    "        current = 'NO'\n",
    "        for j in range(0, n):\n",
    "            if int(array[j][i]) == x:\n",
    "                current = 'YES'\n",
    "                break\n",
    "        result.append(current)\n",
    "    return result\n",
    "                \n",
    "x = int(input())\n",
    "n = int(input())\n",
    "a = []\n",
    "for i in range(0, n):\n",
    "    a.append(input().split())\n",
    "\n",
    "for el in foo(n, x, a):\n",
    "    print(el)"
   ]
  },
  {
   "cell_type": "code",
   "execution_count": 155,
   "metadata": {
    "collapsed": false,
    "scrolled": true
   },
   "outputs": [
    {
     "name": "stdout",
     "output_type": "stream",
     "text": [
      "2 2\n",
      "0 0\n",
      "0 0\n",
      "4\n"
     ]
    }
   ],
   "source": [
    "def foo(n, m, array):\n",
    "    points = 0\n",
    "    for i in range(0, n):\n",
    "        min_ids_array = []\n",
    "        min_ind = 0\n",
    "        min_val = 3000\n",
    "        for j in range(0, m):\n",
    "            if array[i][j] < min_val:\n",
    "                min_val = array[i][j]\n",
    "                min_ids_array = []\n",
    "                min_ids_array.append(j)\n",
    "            elif array[i][j] == min_val:\n",
    "                min_ids_array.append(j)\n",
    "        \n",
    "        for z in min_ids_array:\n",
    "            current_min = array[i][z]\n",
    "            r = 1\n",
    "            for k in range(0, n):\n",
    "                if array[k][z] > current_min:\n",
    "                    r = 0\n",
    "                    break\n",
    "            points += r\n",
    "    return points\n",
    "        \n",
    "    \n",
    "n, m = [int(i) for i in input().split()]\n",
    "a = [[int(j) for j in input().split()] for i in range(0, int(n))]\n",
    "print(foo(n, m, a))"
   ]
  },
  {
   "cell_type": "code",
   "execution_count": 148,
   "metadata": {
    "collapsed": false,
    "scrolled": true
   },
   "outputs": [
    {
     "name": "stdout",
     "output_type": "stream",
     "text": [
      "5\n",
      "5 5 5 5 4\n",
      "100000 loops, best of 3: 8.49 µs per loop\n"
     ]
    }
   ],
   "source": [
    "def foo(n, array):\n",
    "    if array[0] == array[1]:\n",
    "        max1 = array[0]\n",
    "        for i in range(2, n):\n",
    "            if array[i] != max1:\n",
    "                max2 = array[i]\n",
    "                break\n",
    "    \n",
    "    elif array[0] > array[1]:\n",
    "        max1 = array[0]\n",
    "        max2 = array[1]\n",
    "    else:\n",
    "        max1 = array[1]\n",
    "        max2 = array[0]\n",
    "        \n",
    "    for i in range(1, n):\n",
    "        if array[i] > max1:\n",
    "            max2 = max1\n",
    "            max1 = array[i]\n",
    "        \n",
    "        elif array[i] > max2 and array[i] < max1:\n",
    "            max2 = array[i]\n",
    "    return max2\n",
    "        \n",
    "    \n",
    "n = int(input())\n",
    "a = [int(i) for i in input().split()]\n",
    "%timeit foo(n, a)"
   ]
  },
  {
   "cell_type": "code",
   "execution_count": 159,
   "metadata": {
    "collapsed": false
   },
   "outputs": [
    {
     "name": "stdout",
     "output_type": "stream",
     "text": [
      "2 2\n",
      "0 0\n",
      "0 0\n",
      "100000 loops, best of 3: 17.5 µs per loop\n"
     ]
    }
   ],
   "source": [
    "def foo(n, m, array):\n",
    "    n, m = int(n), int(m)\n",
    "    points = 0\n",
    "    for i in range(0, n):\n",
    "        min_ids_array = []\n",
    "        min_ind = 0\n",
    "        min_val = 3000\n",
    "        for j in range(0, m):\n",
    "            if int(array[i][j]) < min_val:\n",
    "                min_val = int(array[i][j])\n",
    "                min_ids_array = []\n",
    "                min_ids_array.append(j)\n",
    "            elif int(array[i][j]) == min_val:\n",
    "                min_ids_array.append(j)\n",
    "        \n",
    "        for z in min_ids_array:\n",
    "            current_min = int(array[i][z])\n",
    "            r = 1\n",
    "            for k in range(0, n):\n",
    "                if int(array[k][z]) > current_min:\n",
    "                    r = 0\n",
    "                    break\n",
    "            points += r\n",
    "    return points\n",
    "        \n",
    "    \n",
    "n, m = input().split()\n",
    "a = [input().split() for i in range(0, int(n))]\n",
    "%timeit foo(n, m, a)"
   ]
  },
  {
   "cell_type": "code",
   "execution_count": 171,
   "metadata": {
    "collapsed": false
   },
   "outputs": [
    {
     "name": "stdout",
     "output_type": "stream",
     "text": [
      "8 5 4 2 2 4 2 2 5 \n",
      "2 4 2 2 4 2 2 2 "
     ]
    }
   ],
   "source": [
    "def foo(n, array):\n",
    "    max_val = 0\n",
    "    min_val = 100\n",
    "    \n",
    "    for i in range(0, n):\n",
    "        if array[i] > max_val:\n",
    "            max_val = array[i]\n",
    "        \n",
    "        if array[i] < min_val:\n",
    "            min_val = array[i]\n",
    "\n",
    "    for i in range(0, n):\n",
    "        if array[i] == max_val:\n",
    "            array[i] = min_val\n",
    "                    \n",
    "    return array\n",
    "\n",
    "a = [int(i) for i in input().split()]\n",
    "n = a.pop(0)\n",
    "for el in foo(n,a):\n",
    "    print(el, end=' ')\n"
   ]
  }
 ],
 "metadata": {
  "kernelspec": {
   "display_name": "Python 3",
   "language": "python",
   "name": "python3"
  },
  "language_info": {
   "codemirror_mode": {
    "name": "ipython",
    "version": 3
   },
   "file_extension": ".py",
   "mimetype": "text/x-python",
   "name": "python",
   "nbconvert_exporter": "python",
   "pygments_lexer": "ipython3",
   "version": "3.5.2"
  }
 },
 "nbformat": 4,
 "nbformat_minor": 0
}
